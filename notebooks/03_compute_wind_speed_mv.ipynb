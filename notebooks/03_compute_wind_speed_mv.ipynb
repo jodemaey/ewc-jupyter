{
 "cells": [
  {
   "cell_type": "markdown",
   "metadata": {},
   "source": [
    "## Computing and plotting wind speed (GRIB)"
   ]
  },
  {
   "cell_type": "markdown",
   "metadata": {},
   "source": [
    "In this notebook we will demonstrate how to:\n",
    "\n",
    "* extract wind components on the 500 hPa pressure level\n",
    "* compute the wind speed\n",
    "* change the GRIB header in the resulting fields\n",
    "* plot the results"
   ]
  },
  {
   "cell_type": "code",
   "execution_count": 1,
   "metadata": {},
   "outputs": [],
   "source": [
    "import metview as mv"
   ]
  },
  {
   "cell_type": "markdown",
   "metadata": {},
   "source": [
    "We are going to use wind forecast data from MARS for a set of pressure levels and forecast steps on a 5x5 degree regular latlon grid. If you have retrieved the data earlier, Metview can read it straight away. Alternatively, Metview can also retrieve it from MARS."
   ]
  },
  {
   "cell_type": "code",
   "execution_count": 2,
   "metadata": {},
   "outputs": [],
   "source": [
    "filename = \"uv.grib\"\n",
    "if mv.exist(filename):\n",
    "    g = mv.read(filename)\n",
    "else:\n",
    "    g = mv.retrieve(type='fc', \n",
    "                    date = -1, \n",
    "                    time = 0,\n",
    "                    param = ['u','v'], \n",
    "                    levelist = ['500', '1000'], \n",
    "                    levType = 'pl',\n",
    "                    step = [0, 6, 12, 18],            \n",
    "                    grid = [5, 5])\n",
    "    mv.write(filename, g)"
   ]
  },
  {
   "cell_type": "markdown",
   "metadata": {},
   "source": [
    "The result is a [Fieldset](https://metview.readthedocs.io/en/latest/data_types/fieldset.html), which is Metview's own class to represent GRIB data. We can check the contents of our fieldset with [describe()](https://metview.readthedocs.io/en/latest/api/functions/describe.html), which shows us high level content of the grib."
   ]
  },
  {
   "cell_type": "code",
   "execution_count": 3,
   "metadata": {},
   "outputs": [
    {
     "data": {
      "text/html": [
       "  \n",
       "                <table>\n",
       "                <tr><th>parameter</th><th>typeOfLevel</th><th>level</th><th>date</th><th>time</th><th>step</th><th>paramId</th><th>class</th><th>stream</th><th>type</th><th>experimentVersionNumber</th></tr>\n",
       "                <tr><th style='text-align: right;'>u</th><td style='text-align: left;'>isobaricInhPa</td><td style='text-align: left;'>500,1000</td><td style='text-align: left;'>20240418</td><td style='text-align: left;'>0</td><td style='text-align: left;'>0,6,...</td><td style='text-align: left;'>131</td><td style='text-align: left;'>od</td><td style='text-align: left;'>oper</td><td style='text-align: left;'>fc</td><td style='text-align: left;'>0001</td></tr><tr><th style='text-align: right;'>v</th><td style='text-align: left;'>isobaricInhPa</td><td style='text-align: left;'>500,1000</td><td style='text-align: left;'>20240418</td><td style='text-align: left;'>0</td><td style='text-align: left;'>0,6,...</td><td style='text-align: left;'>132</td><td style='text-align: left;'>od</td><td style='text-align: left;'>oper</td><td style='text-align: left;'>fc</td><td style='text-align: left;'>0001</td></tr>\n",
       "                </table>"
      ],
      "text/plain": [
       "<IPython.core.display.HTML object>"
      ]
     },
     "execution_count": 3,
     "metadata": {},
     "output_type": "execute_result"
    }
   ],
   "source": [
    "g.describe()"
   ]
  },
  {
   "cell_type": "markdown",
   "metadata": {},
   "source": [
    "Next, we **filter** the 500 hPa wind components using the **[select()](https://metview.readthedocs.io/en/latest/api/functions/select.html)** function."
   ]
  },
  {
   "cell_type": "code",
   "execution_count": 4,
   "metadata": {},
   "outputs": [],
   "source": [
    "u = g.select(shortName='u', level=500)\n",
    "v = g.select(shortName='v', level=500)"
   ]
  },
  {
   "cell_type": "markdown",
   "metadata": {},
   "source": [
    "Having extracted the wind components we **compute** the wind speed fields using Metview's high level fieldset arithmetic. "
   ]
  },
  {
   "cell_type": "code",
   "execution_count": 5,
   "metadata": {},
   "outputs": [],
   "source": [
    "sp = mv.sqrt(u*u + v*v)"
   ]
  },
  {
   "cell_type": "markdown",
   "metadata": {},
   "source": [
    "We can see that in the results the **paramId** and the corresponding **shortName** still refer to the u wind component."
   ]
  },
  {
   "cell_type": "code",
   "execution_count": 6,
   "metadata": {},
   "outputs": [
    {
     "data": {
      "text/plain": [
       "[['u', '131', '500', '0'],\n",
       " ['u', '131', '500', '6'],\n",
       " ['u', '131', '500', '12'],\n",
       " ['u', '131', '500', '18']]"
      ]
     },
     "execution_count": 6,
     "metadata": {},
     "output_type": "execute_result"
    }
   ],
   "source": [
    "mv.grib_get(sp, ['shortName', 'paramId','level', 'step'])"
   ]
  },
  {
   "cell_type": "markdown",
   "metadata": {},
   "source": [
    "The reason for this is that Metview always copies the metadata of the first field in the expression into the resulting field. When we plot fields, the automatic contouring and title are based on the **paramId**. So it is generally a good idea to set it correctly. We will do it by using the [grib_set_long()](../api/functions/grib_set.rst#grib_set_long) function (changing the paramId will set the shortName automatically)."
   ]
  },
  {
   "cell_type": "code",
   "execution_count": 7,
   "metadata": {},
   "outputs": [
    {
     "data": {
      "text/plain": [
       "[['ws', '10', '500', '0'],\n",
       " ['ws', '10', '500', '6'],\n",
       " ['ws', '10', '500', '12'],\n",
       " ['ws', '10', '500', '18']]"
      ]
     },
     "execution_count": 7,
     "metadata": {},
     "output_type": "execute_result"
    }
   ],
   "source": [
    "sp = mv.grib_set_long(sp, ['paramId', 10])\n",
    "mv.grib_get(sp, ['shortName', 'paramId','level', 'step'])"
   ]
  },
  {
   "cell_type": "markdown",
   "metadata": {},
   "source": [
    "Finally, we **plot** the first windspeed field using automatic contouring and title settings."
   ]
  },
  {
   "cell_type": "code",
   "execution_count": 8,
   "metadata": {
    "tags": [
     "nbsphinx-thumbnail"
    ]
   },
   "outputs": [
    {
     "data": {
      "application/vnd.jupyter.widget-view+json": {
       "model_id": "73f28a893504482f933d22ec2cfbb543",
       "version_major": 2,
       "version_minor": 0
      },
      "text/plain": [
       "Image(value=b'', layout=\"Layout(visibility='hidden')\")"
      ]
     },
     "metadata": {},
     "output_type": "display_data"
    },
    {
     "data": {
      "application/vnd.jupyter.widget-view+json": {
       "model_id": "e399e689b0014ee6813741c9c1ce5117",
       "version_major": 2,
       "version_minor": 0
      },
      "text/plain": [
       "Label(value='Generating plots....')"
      ]
     },
     "metadata": {},
     "output_type": "display_data"
    },
    {
     "data": {
      "application/vnd.jupyter.widget-view+json": {
       "model_id": "ff9e975ed34044b29da56a8345e8ada3",
       "version_major": 2,
       "version_minor": 0
      },
      "text/plain": [
       "VBox(children=(IntSlider(value=1, description='Frame:', layout=Layout(width='800px'), max=1, min=1), HBox(chil…"
      ]
     },
     "metadata": {},
     "output_type": "display_data"
    }
   ],
   "source": [
    "mv.setoutput('jupyter')\n",
    "mv.plot(sp, mv.mcont(contour_automatic_setting='ecmwf', legend='on'))"
   ]
  },
  {
   "cell_type": "markdown",
   "metadata": {},
   "source": [
    "This notebook is adapted from [the example in Metview documentation](https://metview.readthedocs.io/en/latest/examples/compute_wind_speed.html)."
   ]
  }
 ],
 "metadata": {
  "celltoolbar": "Tags",
  "kernelspec": {
   "display_name": "Python 3 (ipykernel)",
   "language": "python",
   "name": "python3"
  },
  "language_info": {
   "codemirror_mode": {
    "name": "ipython",
    "version": 3
   },
   "file_extension": ".py",
   "mimetype": "text/x-python",
   "name": "python",
   "nbconvert_exporter": "python",
   "pygments_lexer": "ipython3",
   "version": "3.12.2"
  }
 },
 "nbformat": 4,
 "nbformat_minor": 4
}
