{
 "cells": [
  {
   "cell_type": "markdown",
   "id": "3431ffad-6ac4-4ee5-998d-9aeafcec4f82",
   "metadata": {},
   "source": [
    "# Basic download of CDS data using cdsapi"
   ]
  },
  {
   "cell_type": "markdown",
   "id": "3b9c9f4d-28d5-4e98-9dd8-4e17d591a1fb",
   "metadata": {},
   "source": [
    "The [Copernicus Climate Data Store (CDS)](https://cds.climate.copernicus.eu/) is the data access portal of the [Copernicus Climate Change Service (C3S)](https://climate.copernicus.eu/) and offers access to `data` and `applications` about the Earth's past, present and future climate.\n",
    "\n",
    "We will download some sample data from the [Copernicus Climate Data Store (CDS)](https://cds.climate.copernicus.eu/) using the cdsapi client on the European Weather Cloud. You may also use the CDSAPI client from your own Python scripts"
   ]
  },
  {
   "attachments": {},
   "cell_type": "markdown",
   "id": "a54396a3-5963-460f-9d4c-6a9773e883d3",
   "metadata": {},
   "source": [
    "## Configuring CDS API Access\n",
    "\n",
    "The `Climate Data Store Application Program Interface (CDS API)` is a Python library which allows you to access data from the CDS programmatically. "
   ]
  },
  {
   "cell_type": "markdown",
   "id": "fba46b30-af8c-4b24-a9ed-4dd10a7dc8b7",
   "metadata": {},
   "source": [
    "### Install the CDS API key"
   ]
  },
  {
   "cell_type": "markdown",
   "id": "8f84a635-7325-479e-bfc5-134fe410d9e2",
   "metadata": {},
   "source": [
    "* [Self-register](https://cds.climate.copernicus.eu/#!/home) at the CDS registration page (if you do not have an account yet)\n",
    "* [Login](https://cds.climate.copernicus.eu/user/login) to the CDS portal and go to the [api-how-to page](https://cds.climate.copernicus.eu/api-how-to)\n",
    "* Copy the CDS API key displayed in the black terminal window in a file under `~/.cdsapirc`\n",
    "\n",
    "**Note:** You find your CDS API key displayed in the black terminal box under the section `Install the CDS API key`. If you do not see a URL or key appear in the black terminal box, please refresh your browser tab. \n",
    "  "
   ]
  },
  {
   "cell_type": "markdown",
   "id": "58cd11b9-c18c-4cec-8399-087f329a64e7",
   "metadata": {},
   "source": [
    "The code below creates the file under your current working directory. Make sure to replace the `################` with your personal `CDS API key` and to name the file `~/.cdsapirc`.\n"
   ]
  },
  {
   "cell_type": "code",
   "execution_count": 1,
   "id": "fa656afa-49d6-4595-8d36-323e886728a5",
   "metadata": {},
   "outputs": [
    {
     "name": "stdout",
     "output_type": "stream",
     "text": [
      "Overwriting /home/usxa/.cdsapirc.demo\n"
     ]
    }
   ],
   "source": [
    "%%writefile ~/.cdsapirc.demo\n",
    "\n",
    "url: https://cds.climate.copernicus.eu/api/v2\n",
    "key: ##############################"
   ]
  },
  {
   "cell_type": "markdown",
   "id": "9f7fa581-3845-4fef-8a62-ed9f088ea96a",
   "metadata": {},
   "source": [
    "<div class=\"alert alert-block alert-info\"> <b>CDS Migration</b> <p>\n",
    "    A new Climate Data Store (CDS) and a new Atmosphere Data Store (ADS) powered by a new state-of-the-art infrastructure, referred to as the Common Data Store (CDS) Engine, are soon to be launched. \n",
    "</p>\n",
    "<p>Credentials to access the service will change and new versions of the client may be needed.</p>\n",
    "<p>Check the <a href=\"https://confluence.ecmwf.int/x/uINmFw\">Copernicus Knowledge Base</a> for the most up-to-date information.</p>\n",
    "</div>"
   ]
  },
  {
   "cell_type": "markdown",
   "id": "1d0f6103-12ae-41bc-9ad6-bcbc5af90a05",
   "metadata": {},
   "source": [
    "### Install the CDS API client"
   ]
  },
  {
   "cell_type": "markdown",
   "id": "cfe659f5-22a1-43e7-a62b-4d041d8c8191",
   "metadata": {},
   "source": [
    "If the `CDS API client` is not installed, you can do this with the package management system `pip`."
   ]
  },
  {
   "cell_type": "code",
   "execution_count": 2,
   "id": "6b18c7d2-b115-49a0-829c-da1c1d14ba62",
   "metadata": {},
   "outputs": [],
   "source": [
    "#!pip install cdsapi"
   ]
  },
  {
   "cell_type": "markdown",
   "id": "bc47a8fe-1e30-46c8-924b-2c150e4fe440",
   "metadata": {},
   "source": [
    "#### Use the CDS API client for data access"
   ]
  },
  {
   "cell_type": "markdown",
   "id": "a0bcd35e-0549-4217-a26d-e8edc9c938b5",
   "metadata": {},
   "source": [
    "Once the `CDS API` is installed, it can be used to request data from the Climate Data Store."
   ]
  },
  {
   "cell_type": "markdown",
   "id": "23064541-df1a-478b-af81-50e3e3cf13aa",
   "metadata": {},
   "source": [
    "You can use the [web interface](https://cds.climate.copernicus.eu/cdsapp#!/search?type=dataset) to browse through the datasets. At the end of the `\"Download data\" form`, there is the option to choose `Show API request`. If you click this button, the `API request` appears, which you can copy paste into your coding workflow.\n"
   ]
  },
  {
   "cell_type": "markdown",
   "id": "29cb46f5-c970-4570-a103-01c64a97fcce",
   "metadata": {},
   "source": [
    "## <a id='era5-land_hourly'></a>Example: **ERA5-Land hourly data from 1950 to present**"
   ]
  },
  {
   "cell_type": "markdown",
   "id": "fb7c0ec9-efb7-417d-82a3-6fe4439a8a78",
   "metadata": {},
   "source": [
    "CDS API name: `reanalysis-era5-land`\n",
    "\n",
    "> - Variable: `['10m_u_component_of_wind', '10m_v_component_of_wind','2m_temperature']`\n",
    "> - Year: `[1981 to 2020]`\n",
    "> - Month: `12`\n",
    "> - Day: `15`\n",
    "> - Time: `12:00`\n",
    "> - Area: `[60, -10, 35, 30]` # North, West, South, East\n",
    "> - Format: `netcdf`"
   ]
  },
  {
   "cell_type": "markdown",
   "id": "488ac213-c874-4308-82f0-4ae870158589",
   "metadata": {},
   "source": [
    "**Note:** the request above makes use of the keyword `area`, which enable you to retrieve only a geographical subset. The bounding box information are set as follows: `[N, W, S, E]`. When this keyword is set, the data is automatically projected to a grid from [-180, 180].  "
   ]
  },
  {
   "cell_type": "code",
   "execution_count": 3,
   "id": "8b02be2c-65f0-4ece-b278-fa2960b1acfe",
   "metadata": {},
   "outputs": [
    {
     "name": "stderr",
     "output_type": "stream",
     "text": [
      "2024-04-19 17:54:35,141 INFO Welcome to the CDS\n",
      "2024-04-19 17:54:35,141 INFO Sending request to https://cds.climate.copernicus.eu/api/v2/resources/reanalysis-era5-land\n",
      "2024-04-19 17:54:35,211 INFO Request is completed\n",
      "2024-04-19 17:54:35,212 INFO Downloading https://download-0018.copernicus-climate.eu/cache-compute-0018/cache/data2/adaptor.mars.internal-1713548893.859592-11196-3-f1e61416-6ac6-4a83-9ece-b9d9075a9c99.nc to era5-land_eur_1981_2020.nc (23M)\n",
      "2024-04-19 17:54:35,638 INFO Download rate 54.2M/s  \n"
     ]
    },
    {
     "data": {
      "text/plain": [
       "Result(content_length=24160580,content_type=application/x-netcdf,location=https://download-0018.copernicus-climate.eu/cache-compute-0018/cache/data2/adaptor.mars.internal-1713548893.859592-11196-3-f1e61416-6ac6-4a83-9ece-b9d9075a9c99.nc)"
      ]
     },
     "execution_count": 3,
     "metadata": {},
     "output_type": "execute_result"
    }
   ],
   "source": [
    "import cdsapi\n",
    "c = cdsapi.Client()\n",
    "c.retrieve(\n",
    "    'reanalysis-era5-land',\n",
    "    {\n",
    "        'variable': [\n",
    "            '10m_u_component_of_wind', '10m_v_component_of_wind', '2m_temperature',\n",
    "        ],\n",
    "        'year': [\n",
    "            '1981', '1982', '1983',\n",
    "            '1984', '1985', '1986',\n",
    "            '1987', '1988', '1989',\n",
    "            '1990', '1991', '1992',\n",
    "            '1993', '1994', '1995',\n",
    "            '1996', '1997', '1998',\n",
    "            '1999', '2000', '2001',\n",
    "            '2002', '2003', '2004',\n",
    "            '2005', '2006', '2007',\n",
    "            '2008', '2009', '2010',\n",
    "            '2011', '2012', '2013',\n",
    "            '2014', '2015', '2016',\n",
    "            '2017', '2018', '2019',\n",
    "            '2020',\n",
    "        ],\n",
    "        'month': '12',\n",
    "        'day': '15',\n",
    "        'time': '12:00',\n",
    "        'format': 'netcdf',\n",
    "        'area': [\n",
    "            60, -10, 35,\n",
    "            30,\n",
    "        ],\n",
    "    },\n",
    "    'era5-land_eur_1981_2020.nc')"
   ]
  },
  {
   "cell_type": "markdown",
   "id": "8d82e128-7e33-497b-8b54-40c76cd501ea",
   "metadata": {},
   "source": [
    "We can now quickly check the headers of the netCDF file downloaded:"
   ]
  },
  {
   "cell_type": "code",
   "execution_count": 4,
   "id": "aeddca8b-ccfc-4dd2-960f-1ec701c70a50",
   "metadata": {},
   "outputs": [
    {
     "name": "stdout",
     "output_type": "stream",
     "text": [
      "Variable: longitude\n",
      "Shape: (401,)\n",
      "Dimensions: ('longitude',)\n",
      "Attributes: ['units', 'long_name']\n",
      "\n",
      "Variable: latitude\n",
      "Shape: (251,)\n",
      "Dimensions: ('latitude',)\n",
      "Attributes: ['units', 'long_name']\n",
      "\n",
      "Variable: time\n",
      "Shape: (40,)\n",
      "Dimensions: ('time',)\n",
      "Attributes: ['units', 'long_name', 'calendar']\n",
      "\n",
      "Variable: u10\n",
      "Shape: (40, 251, 401)\n",
      "Dimensions: ('time', 'latitude', 'longitude')\n",
      "Attributes: ['scale_factor', 'add_offset', '_FillValue', 'missing_value', 'units', 'long_name']\n",
      "\n",
      "Variable: v10\n",
      "Shape: (40, 251, 401)\n",
      "Dimensions: ('time', 'latitude', 'longitude')\n",
      "Attributes: ['scale_factor', 'add_offset', '_FillValue', 'missing_value', 'units', 'long_name']\n",
      "\n",
      "Variable: t2m\n",
      "Shape: (40, 251, 401)\n",
      "Dimensions: ('time', 'latitude', 'longitude')\n",
      "Attributes: ['scale_factor', 'add_offset', '_FillValue', 'missing_value', 'units', 'long_name']\n",
      "\n"
     ]
    }
   ],
   "source": [
    "import netCDF4 as nc\n",
    "nc_file = nc.Dataset('era5-land_eur_1981_2020.nc', 'r')\n",
    "for var_name in nc_file.variables.keys():\n",
    "    var = nc_file.variables[var_name]\n",
    "    print(\"Variable:\", var_name)\n",
    "    print(\"Shape:\", var.shape)\n",
    "    print(\"Dimensions:\", var.dimensions)\n",
    "    print(\"Attributes:\", var.ncattrs())\n",
    "    print(\"\")\n",
    "nc_file.close()"
   ]
  },
  {
   "cell_type": "markdown",
   "id": "334c0a95-ef46-4ce8-9a47-b07701cae4e1",
   "metadata": {},
   "source": [
    "-------"
   ]
  },
  {
   "cell_type": "markdown",
   "id": "a0d65463-fc6b-4129-876c-26003f6fe90c",
   "metadata": {},
   "source": [
    "This tutorial is based on the [Climate Data Store Tutorial](https://ecmwf-projects.github.io/copernicus-training-c3s/cds-tutorial.html). Find more training material to access the Climate Data Store in the [Copernicus Climate Change Service (C3S) Data Tutorials](https://ecmwf-projects.github.io/copernicus-training-c3s/intro.html)."
   ]
  }
 ],
 "metadata": {
  "kernelspec": {
   "display_name": "Python 3 (ipykernel)",
   "language": "python",
   "name": "python3"
  },
  "language_info": {
   "codemirror_mode": {
    "name": "ipython",
    "version": 3
   },
   "file_extension": ".py",
   "mimetype": "text/x-python",
   "name": "python",
   "nbconvert_exporter": "python",
   "pygments_lexer": "ipython3",
   "version": "3.12.2"
  }
 },
 "nbformat": 4,
 "nbformat_minor": 5
}
