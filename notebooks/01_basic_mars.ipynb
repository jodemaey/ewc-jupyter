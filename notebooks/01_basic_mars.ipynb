{
 "cells": [
  {
   "cell_type": "markdown",
   "id": "3431ffad-6ac4-4ee5-998d-9aeafcec4f82",
   "metadata": {},
   "source": [
    "# Basic download of ECMWF data using the native MARS client"
   ]
  },
  {
   "cell_type": "markdown",
   "id": "3b9c9f4d-28d5-4e98-9dd8-4e17d591a1fb",
   "metadata": {},
   "source": [
    "We will download some sample data using the <a href=\"https://confluence.ecmwf.int/x/ERSYAg\">MARS</a> client on the European Weather Cloud. We can typically do this on the command line, but we use the magic of Jupyter notebooks for an easier to follow narrative"
   ]
  },
  {
   "attachments": {},
   "cell_type": "markdown",
   "id": "5ebe7782-d749-45f4-9666-ed3e344eb9ce",
   "metadata": {},
   "source": [
    "## Configuring MARS Access\n",
    "\n",
    "First of all, if not done already, make sure you have the right credentials configured in your instance.\n",
    "1. Go to <a href=\"https://api.ecmwf.int/v1/key/\">https://api.ecmwf.int/v1/key/</a>\n",
    "2. Copy the contents of the .ecmwfapirc\n",
    "3. Put them into ~/.ecmwfapirc. You can do it on a terminal, or directly from the notebook with:"
   ]
  },
  {
   "cell_type": "code",
   "execution_count": 1,
   "id": "81d5d343-6018-46fc-a597-e92bc5442c4a",
   "metadata": {},
   "outputs": [
    {
     "name": "stdout",
     "output_type": "stream",
     "text": [
      "Overwriting /home/usxa/.ecmwfapirc.demo\n"
     ]
    }
   ],
   "source": [
    "%%writefile ~/.ecmwfapirc.demo\n",
    "{\n",
    "    \"url\"   : \"https://api.ecmwf.int/v1\",\n",
    "    \"key\"   : \"##############################\",\n",
    "    \"email\" : \"################\"\n",
    "}"
   ]
  },
  {
   "cell_type": "markdown",
   "id": "9f7fa581-3845-4fef-8a62-ed9f088ea96a",
   "metadata": {},
   "source": [
    "<div class=\"alert alert-block alert-info\"> <b>Connectivity remarks</b> <p>When running at ECMWF, make sure your instance has a public IP before running MARS. If using Floating IP, MARS client will not be able to figure out what it is so you will need to set it up explicitly.</p></div>"
   ]
  },
  {
   "cell_type": "code",
   "execution_count": 2,
   "id": "55a8c8ad-b5d4-4967-a455-a3c18ce4d269",
   "metadata": {},
   "outputs": [],
   "source": [
    "#%env MARS_DHS_LOCALHOST=$(curl https://ipinfo.io/ip)"
   ]
  },
  {
   "cell_type": "markdown",
   "id": "94a58431-977c-4fc7-86d4-92289792f2da",
   "metadata": {},
   "source": [
    "## Running the simplest mars request\n",
    "In order to test the access to MARS, we can run the following request"
   ]
  },
  {
   "cell_type": "code",
   "execution_count": 3,
   "id": "682a2a09-4f36-4010-a9c6-012683bc6713",
   "metadata": {},
   "outputs": [
    {
     "name": "stdout",
     "output_type": "stream",
     "text": [
      "mars - INFO   - 20240419.160123 - Welcome to MARS\n",
      "mars - INFO   - 20240419.160123 - MARS_HOME=/home/usxa/.marsrc/home\n",
      "mars - INFO   - 20240419.160123 - MARS Client build stamp: 20240410103252\n",
      "mars - INFO   - 20240419.160123 - MARS Client bundle version: 6.33.18.0\n",
      "mars - INFO   - 20240419.160123 - MARS Client version: 20240410\n",
      "mars - INFO   - 20240419.160123 - package mars-client version: 6.33.18\n",
      "mars - INFO   - 20240419.160123 - package mir version: 1.19.1\n",
      "mars - INFO   - 20240419.160123 - package odc version: 1.5.0\n",
      "mars - INFO   - 20240419.160123 - package fdb version: 5.11.30\n",
      "mars - INFO   - 20240419.160123 - package metkit version: 1.11.7\n",
      "mars - INFO   - 20240419.160123 - package eckit version: 1.25.2\n",
      "mars - INFO   - 20240419.160123 - package eccodes version: 2.34.1\n",
      "retrieve, target=first.grib\n",
      "\n",
      "mars - INFO   - 20240419.160123 - Processing request 1\n",
      "\n",
      "RETRIEVE,\n",
      "    CLASS      = OD,\n",
      "    TYPE       = AN,\n",
      "    STREAM     = OPER,\n",
      "    EXPVER     = 0001,\n",
      "    REPRES     = SH,\n",
      "    LEVTYPE    = PL,\n",
      "    LEVELIST   = 1000/850/700/500/400/300,\n",
      "    PARAM      = 129,\n",
      "    DATE       = 20240418,\n",
      "    TIME       = 1200,\n",
      "    STEP       = 00,\n",
      "    DOMAIN     = G,\n",
      "    TARGET     = first.grib\n",
      "\n",
      "mars - INFO   - 20240419.160123 - Requesting 6 fields\n",
      "mars - WARN   - 20240419.160123 - Local socket address resolve to local IP: [127.0.0.1]\n",
      "mars - WARN   - 20240419.160123 - Using hostname for callback address instead: [test-webinar]\n",
      "mars - INFO   - 20240419.160123 - Calling mars on 'fdbprod.ecmwf.int', local port is 39845\n",
      "mars - INFO   - 20240419.160123 - Callback at address 136.156.133.165, port 39845\n",
      "mars - INFO   - 20240419.160123 - Mars client is on test-webinar (136.156.133.165) 39845\n",
      "mars - INFO   - 20240419.160123 - Mars server is on aa6-210.ecmwf.int (10.100.64.210) 39035\n",
      "mars - INFO   - 20240419.160123 - Server task is 596 [ATOS FDB]\n",
      "mars - INFO   - 20240419.160123 - Retrieving from FDB [ATOS FDB]\n",
      "mars - INFO   - 20240419.160123 - Looking up FDB indexes: 0.039246 second elapsed, 0.036919 second cpu [ATOS FDB]\n",
      "mars - INFO   - 20240419.160123 - Transfering 19682388 bytes\n",
      "mars - INFO   - 20240419.160123 - 6 fields retrieved from 'ATOS FDB'\n",
      "mars - INFO   - 20240419.160123 -   Read from network: 18.77 Mbyte(s) in < 1 sec [255.64 Mbyte/sec] \n",
      "mars - INFO   - 20240419.160123 -   Writing to target file: 18.77 Mbyte(s) in < 1 sec [1.37 Gbyte/sec] \n",
      "mars - INFO   - 20240419.160123 - Memory used: 46.46 Mbyte(s)\n",
      "mars - INFO   - 20240419.160123 - No errors reported\n"
     ]
    }
   ],
   "source": [
    "! echo \"retrieve, target=first.grib\" | mars"
   ]
  },
  {
   "cell_type": "markdown",
   "id": "dfe95b1e-4a4a-47c7-800a-7e7448e40e5c",
   "metadata": {},
   "source": [
    "We can quickly inspect the contents of "
   ]
  },
  {
   "cell_type": "code",
   "execution_count": 4,
   "id": "ac29b8be-b690-4e64-ba82-6e6edd68fc9e",
   "metadata": {},
   "outputs": [
    {
     "name": "stdout",
     "output_type": "stream",
     "text": [
      "first.grib\n",
      "edition      centre       typeOfLevel  level        dataDate     stepRange    dataType     shortName    packingType  gridType     \n",
      "1            ecmf         isobaricInhPa  1000         20240418     0            an           z            spectral_complex  sh          \n",
      "1            ecmf         isobaricInhPa  850          20240418     0            an           z            spectral_complex  sh          \n",
      "1            ecmf         isobaricInhPa  700          20240418     0            an           z            spectral_complex  sh          \n",
      "1            ecmf         isobaricInhPa  500          20240418     0            an           z            spectral_complex  sh          \n",
      "1            ecmf         isobaricInhPa  400          20240418     0            an           z            spectral_complex  sh          \n",
      "1            ecmf         isobaricInhPa  300          20240418     0            an           z            spectral_complex  sh          \n",
      "6 of 6 messages in first.grib\n",
      "\n",
      "6 of 6 total messages in 1 files\n"
     ]
    }
   ],
   "source": [
    "!grib_ls first.grib"
   ]
  },
  {
   "cell_type": "code",
   "execution_count": 5,
   "id": "fe59980b-f1e1-4092-8d94-8d06c7eec0d0",
   "metadata": {},
   "outputs": [
    {
     "name": "stdout",
     "output_type": "stream",
     "text": [
      "-rw-r--r-- 1 usxa usxa 19682640 Apr 19 16:01 first.grib\n"
     ]
    }
   ],
   "source": [
    "ls -l first.grib"
   ]
  },
  {
   "cell_type": "markdown",
   "id": "7422f89e-9617-4fa9-8be2-1def84346b2d",
   "metadata": {},
   "source": [
    "We can also use the command line GRIB tools, part of the <a href=\"https://confluence.ecmwf.int/display/ECC\">ECMWF ecCodes Library</a>, to quickly inspect the contents of the files retrieved:"
   ]
  },
  {
   "cell_type": "code",
   "execution_count": 6,
   "id": "6900792b-a1a4-4832-8de9-9a261bbe90ad",
   "metadata": {},
   "outputs": [
    {
     "name": "stdout",
     "output_type": "stream",
     "text": [
      "first.grib\n",
      "edition      centre       typeOfLevel  level        dataDate     stepRange    dataType     shortName    packingType  gridType     \n",
      "1            ecmf         isobaricInhPa  1000         20240418     0            an           z            spectral_complex  sh          \n",
      "1            ecmf         isobaricInhPa  850          20240418     0            an           z            spectral_complex  sh          \n",
      "1            ecmf         isobaricInhPa  700          20240418     0            an           z            spectral_complex  sh          \n",
      "1            ecmf         isobaricInhPa  500          20240418     0            an           z            spectral_complex  sh          \n",
      "1            ecmf         isobaricInhPa  400          20240418     0            an           z            spectral_complex  sh          \n",
      "1            ecmf         isobaricInhPa  300          20240418     0            an           z            spectral_complex  sh          \n",
      "6 of 6 messages in first.grib\n",
      "\n",
      "6 of 6 total messages in 1 files\n"
     ]
    }
   ],
   "source": [
    "!grib_ls first.grib"
   ]
  },
  {
   "cell_type": "markdown",
   "id": "36716a94-ad57-472d-8d38-433079261b0c",
   "metadata": {},
   "source": [
    "## A more realistic example\n",
    "\n",
    "We can explore the MARS archive through the <a href=\"https://apps.ecmwf.int/mars-catalogue/\">Mars Catalogue</a>. It is also the best way to craft your MARS requests to get the data you are after.\n",
    "\n",
    "In this example, we will try to get 2-meter temperature data from HRES forecast from 2000-01-01 12 run at steps 3, 6, 9 and 12.\n",
    "\n",
    "<a href=\"https://apps.ecmwf.int/mars-catalogue/?stream=oper&levtype=sfc&time=12%3A00%3A00&expver=1&month=jan&year=2000&date=2000-01-01&type=fc&class=od\">Here</a> you can find the direct link to the relevant page in the MARS Catalogue for that information.\n",
    "\n",
    "You can select the right elements in the menus, and click on \"View MARS request\" to get your starting point.\n",
    "\n",
    "The request given should look similar to this one:\n",
    "```retrieve,\n",
    "class=od,\n",
    "date=2000-01-01,\n",
    "expver=1,\n",
    "levtype=sfc,\n",
    "param=167.128,\n",
    "step=3/6/9/12,\n",
    "stream=oper,\n",
    "time=12:00:00,\n",
    "type=fc,\n",
    "target=\"output\"\n",
    "```\n",
    "\n",
    "We can customise the target name, and also add additional postprocessing options such as the area or the grid we want, and write it to a request file:"
   ]
  },
  {
   "cell_type": "code",
   "execution_count": 7,
   "id": "b2d020d5-2290-40e1-a10f-6ac4616696c3",
   "metadata": {},
   "outputs": [
    {
     "name": "stdout",
     "output_type": "stream",
     "text": [
      "Overwriting real.req\n"
     ]
    }
   ],
   "source": [
    "%%writefile real.req\n",
    "retrieve,\n",
    "class=od,\n",
    "date=2000-01-01,\n",
    "expver=1,\n",
    "levtype=sfc,\n",
    "param=167.128,\n",
    "step=3/6/9/12,\n",
    "stream=oper,\n",
    "time=12:00:00,\n",
    "type=fc,\n",
    "area=E,\n",
    "grid=1/1,\n",
    "target=\"real.grib\""
   ]
  },
  {
   "cell_type": "markdown",
   "id": "dbe262ec-4d3e-467f-8606-bc365b9d23ba",
   "metadata": {},
   "source": [
    "We can now pass that request to MARS to retrieve the data:"
   ]
  },
  {
   "cell_type": "code",
   "execution_count": 8,
   "id": "e6a49d5e-cff6-4871-8c90-f2886a30301a",
   "metadata": {},
   "outputs": [
    {
     "name": "stdout",
     "output_type": "stream",
     "text": [
      "mars - INFO   - 20240419.160124 - Welcome to MARS\n",
      "mars - INFO   - 20240419.160124 - MARS_HOME=/home/usxa/.marsrc/home\n",
      "mars - INFO   - 20240419.160124 - MARS Client build stamp: 20240410103252\n",
      "mars - INFO   - 20240419.160124 - MARS Client bundle version: 6.33.18.0\n",
      "mars - INFO   - 20240419.160124 - MARS Client version: 20240410\n",
      "mars - INFO   - 20240419.160124 - package mars-client version: 6.33.18\n",
      "mars - INFO   - 20240419.160124 - package mir version: 1.19.1\n",
      "mars - INFO   - 20240419.160124 - package odc version: 1.5.0\n",
      "mars - INFO   - 20240419.160124 - package fdb version: 5.11.30\n",
      "mars - INFO   - 20240419.160124 - package metkit version: 1.11.7\n",
      "mars - INFO   - 20240419.160124 - package eckit version: 1.25.2\n",
      "mars - INFO   - 20240419.160124 - package eccodes version: 2.34.1\n",
      "retrieve,\n",
      "class=od,\n",
      "date=2000-01-01,\n",
      "expver=1,\n",
      "levtype=sfc,\n",
      "param=167.128,\n",
      "step=3/6/9/12,\n",
      "stream=oper,\n",
      "time=12:00:00,\n",
      "type=fc,\n",
      "area=E,\n",
      "grid=1/1,\n",
      "target=\"real.grib\"\n",
      "\n",
      "mars - INFO   - 20240419.160124 - Processing request 1\n",
      "\n",
      "RETRIEVE,\n",
      "    CLASS      = OD,\n",
      "    TYPE       = FC,\n",
      "    STREAM     = OPER,\n",
      "    EXPVER     = 0001,\n",
      "    REPRES     = GG,\n",
      "    LEVTYPE    = SFC,\n",
      "    PARAM      = 167.128,\n",
      "    DATE       = 20000101,\n",
      "    TIME       = 1200,\n",
      "    STEP       = 3/6/9/12,\n",
      "    DOMAIN     = G,\n",
      "    TARGET     = \"real.grib\",\n",
      "    RESOL      = AUTO,\n",
      "    AREA       = 73.5/-27/33/45,\n",
      "    GRID       = 1/1\n",
      "\n",
      "mars - INFO   - 20240419.160124 - Requesting 4 fields\n",
      "mars - WARN   - 20240419.160124 - Local socket address resolve to local IP: [127.0.0.1]\n",
      "mars - WARN   - 20240419.160124 - Using hostname for callback address instead: [test-webinar]\n",
      "mars - INFO   - 20240419.160124 - Calling mars on 'fdbprod.ecmwf.int', local port is 50299\n",
      "mars - INFO   - 20240419.160124 - Callback at address 136.156.133.165, port 50299\n",
      "mars - INFO   - 20240419.160124 - Mars client is on test-webinar (136.156.133.165) 50299\n",
      "mars - INFO   - 20240419.160124 - Mars server is on aa6-210.ecmwf.int (10.100.64.210) 39351\n",
      "mars - INFO   - 20240419.160124 - Server task is 334 [ATOS FDB]\n",
      "mars - INFO   - 20240419.160124 - Retrieving from FDB [ATOS FDB]\n",
      "mars - INFO   - 20240419.160124 - Looking up FDB indexes: 0.004153 second elapsed, 0.003717 second cpu [ATOS FDB]\n",
      "mars - WARN   - 20240419.160124 - Local socket address resolve to local IP: [127.0.0.1]\n",
      "mars - WARN   - 20240419.160124 - Using hostname for callback address instead: [test-webinar]\n",
      "mars - INFO   - 20240419.160124 - Calling mars on 'marsod.ecmwf.int', local port is 52545\n",
      "mars - INFO   - 20240419.160124 - Callback at address 136.156.133.165, port 52545\n",
      "mars - INFO   - 20240419.160124 - Mars client is on test-webinar (136.156.133.165) 52545\n",
      "mars - INFO   - 20240419.160124 - Mars server is on bods2-ab1404.ecmwf.int (10.112.5.10) 40218\n",
      "mars - INFO   - 20240419.160124 - Server task is 595 [marsod]\n",
      "mars - INFO   - 20240419.160124 - Request cost: 4 fields, 1.05835 Mbytes online, nodes: mvr007 [marsod]\n",
      "mars - INFO   - 20240419.160124 - The efficiency of your requests in the last 12 hours is 100% [marsod]\n",
      "mars - INFO   - 20240419.160124 - Transfering 1109760 bytes\n",
      "mars - INFO   - 20240419.160125 - 4 fields retrieved from 'marsod'\n",
      "mars - INFO   - 20240419.160125 - 4 fields have been interpolated on 'test-webinar'\n",
      "mars - INFO   - 20240419.160125 -   Read from network: 1.06 Mbyte(s) in < 1 sec [11.94 Mbyte/sec] \n",
      "mars - INFO   - 20240419.160125 -   Writing to target file: 23.91 Kbyte(s) in < 1 sec [243.19 Mbyte/sec] \n",
      "mars - INFO   - 20240419.160125 - Memory used: 51.99 Mbyte(s)\n",
      "mars - INFO   - 20240419.160125 - No errors reported\n"
     ]
    }
   ],
   "source": [
    "!mars real.req"
   ]
  },
  {
   "cell_type": "markdown",
   "id": "b745696d-6fbb-4a8a-96d4-696d9fcacd96",
   "metadata": {},
   "source": [
    "Let's inspect the contents of the retrieved file, and ensure they match our request:"
   ]
  },
  {
   "cell_type": "code",
   "execution_count": 9,
   "id": "7bbf2864-bed5-4240-8a05-b998dc7a2ec7",
   "metadata": {},
   "outputs": [
    {
     "name": "stdout",
     "output_type": "stream",
     "text": [
      "real.grib\n",
      "domain      levtype     date        time        step        param       class       type        stream      expver      \n",
      "g           sfc         20000101    1200        3           167.128     od          fc          oper        0001       \n",
      "g           sfc         20000101    1200        6           167.128     od          fc          oper        0001       \n",
      "g           sfc         20000101    1200        9           167.128     od          fc          oper        0001       \n",
      "g           sfc         20000101    1200        12          167.128     od          fc          oper        0001       \n",
      "4 of 4 messages in real.grib\n",
      "\n",
      "4 of 4 total messages in 1 files\n"
     ]
    }
   ],
   "source": [
    "!grib_ls -m real.grib"
   ]
  },
  {
   "cell_type": "markdown",
   "id": "fab59d14-e9fb-44d3-9749-814863bb8573",
   "metadata": {},
   "source": [
    "We can also see the grid information in the geography namespace of ecCodes:"
   ]
  },
  {
   "cell_type": "code",
   "execution_count": 10,
   "id": "6e8ac423-27ef-4497-aea7-ac75560076fa",
   "metadata": {},
   "outputs": [
    {
     "name": "stdout",
     "output_type": "stream",
     "text": [
      "real.grib\n",
      "bitmapPresent                       latitudeOfFirstGridPointInDegrees   longitudeOfFirstGridPointInDegrees  latitudeOfLastGridPointInDegrees    longitudeOfLastGridPointInDegrees   iScansNegatively                    jScansPositively                    jPointsAreConsecutive               jDirectionIncrementInDegrees        iDirectionIncrementInDegrees        gridType                            \n",
      "0                                   73                                  -27                                 33                                  45                                  0                                   0                                   0                                   1                                   1                                   regular_ll                         \n",
      "0                                   73                                  -27                                 33                                  45                                  0                                   0                                   0                                   1                                   1                                   regular_ll                         \n",
      "0                                   73                                  -27                                 33                                  45                                  0                                   0                                   0                                   1                                   1                                   regular_ll                         \n",
      "0                                   73                                  -27                                 33                                  45                                  0                                   0                                   0                                   1                                   1                                   regular_ll                         \n",
      "4 of 4 messages in real.grib\n",
      "\n",
      "4 of 4 total messages in 1 files\n"
     ]
    }
   ],
   "source": [
    "!grib_ls -n geography real.grib"
   ]
  },
  {
   "cell_type": "markdown",
   "id": "554069f0-564e-4ebb-94c5-9c11a4b45a8d",
   "metadata": {},
   "source": [
    "## A bigger example\n",
    "\n",
    "We can also see how a bigger request would perform. In this example, we will try to get a few GB of ENS data "
   ]
  },
  {
   "cell_type": "code",
   "execution_count": 11,
   "id": "0ff515d4-4110-4a95-b009-4a333779746e",
   "metadata": {},
   "outputs": [
    {
     "name": "stdout",
     "output_type": "stream",
     "text": [
      "Overwriting big.req\n"
     ]
    }
   ],
   "source": [
    "%%writefile big.req\n",
    "retrieve,\n",
    "class=od,\n",
    "date=-1,\n",
    "expver=1,\n",
    "levtype=sfc,\n",
    "number=1/to/50,\n",
    "param=167.128,\n",
    "step=0/to/24/by/6,\n",
    "stream=enfo,\n",
    "time=00:00:00,\n",
    "type=pf,\n",
    "target=\"big.grib\""
   ]
  },
  {
   "cell_type": "code",
   "execution_count": 12,
   "id": "92d8e310-11e6-402a-876b-bfd03dd464e4",
   "metadata": {},
   "outputs": [
    {
     "name": "stdout",
     "output_type": "stream",
     "text": [
      "mars - INFO   - 20240419.160125 - Welcome to MARS\n",
      "mars - INFO   - 20240419.160125 - MARS_HOME=/home/usxa/.marsrc/home\n",
      "mars - INFO   - 20240419.160125 - MARS Client build stamp: 20240410103252\n",
      "mars - INFO   - 20240419.160125 - MARS Client bundle version: 6.33.18.0\n",
      "mars - INFO   - 20240419.160125 - MARS Client version: 20240410\n",
      "mars - INFO   - 20240419.160125 - package mars-client version: 6.33.18\n",
      "mars - INFO   - 20240419.160125 - package mir version: 1.19.1\n",
      "mars - INFO   - 20240419.160125 - package odc version: 1.5.0\n",
      "mars - INFO   - 20240419.160125 - package fdb version: 5.11.30\n",
      "mars - INFO   - 20240419.160125 - package metkit version: 1.11.7\n",
      "mars - INFO   - 20240419.160125 - package eckit version: 1.25.2\n",
      "mars - INFO   - 20240419.160125 - package eccodes version: 2.34.1\n",
      "retrieve,\n",
      "class=od,\n",
      "date=-1,\n",
      "expver=1,\n",
      "levtype=sfc,\n",
      "number=1/to/50,\n",
      "param=167.128,\n",
      "step=0/to/24/by/6,\n",
      "stream=enfo,\n",
      "time=00:00:00,\n",
      "type=pf,\n",
      "target=\"big.grib\"\n",
      "\n",
      "mars - INFO   - 20240419.160125 - Processing request 1\n",
      "\n",
      "RETRIEVE,\n",
      "    CLASS      = OD,\n",
      "    TYPE       = PF,\n",
      "    STREAM     = ENFO,\n",
      "    EXPVER     = 0001,\n",
      "    REPRES     = SH,\n",
      "    LEVTYPE    = SFC,\n",
      "    PARAM      = 167.128,\n",
      "    DATE       = 20240418,\n",
      "    TIME       = 0000,\n",
      "    STEP       = 0/6/12/18/24,\n",
      "    NUMBER     = 1/2/3/4/5/6/7/8/9/10/11/12/13/14/15/16/17/18/19/20/21/22/23/24/25/26/27/28/29/30/31/32/33/34/35/36/37/38/39/40/41/42/43/44/45/46/47/48/49/50,\n",
      "    DOMAIN     = G,\n",
      "    TARGET     = \"big.grib\"\n",
      "\n",
      "mars - INFO   - 20240419.160125 - Requesting 250 fields\n",
      "mars - WARN   - 20240419.160125 - Local socket address resolve to local IP: [127.0.0.1]\n",
      "mars - WARN   - 20240419.160125 - Using hostname for callback address instead: [test-webinar]\n",
      "mars - INFO   - 20240419.160125 - Calling mars on 'fdbprod.ecmwf.int', local port is 55121\n",
      "mars - INFO   - 20240419.160125 - Callback at address 136.156.133.165, port 55121\n",
      "mars - INFO   - 20240419.160125 - Mars client is on test-webinar (136.156.133.165) 55121\n",
      "mars - INFO   - 20240419.160125 - Mars server is on aa6-210.ecmwf.int (10.100.64.210) 47735\n",
      "mars - INFO   - 20240419.160125 - Server task is 334 [ATOS FDB]\n",
      "mars - INFO   - 20240419.160125 - Retrieving from FDB [ATOS FDB]\n",
      "mars - INFO   - 20240419.160127 - Looking up FDB indexes: 1 second elapsed, 1 second cpu [ATOS FDB]\n",
      "mars - INFO   - 20240419.160127 - Transfering 3301160500 bytes\n",
      "mars - INFO   - 20240419.160136 - 250 fields retrieved from 'ATOS FDB'\n",
      "mars - INFO   - 20240419.160140 - Request time:  wall: 15 sec  cpu: 3 sec \n",
      "mars - INFO   - 20240419.160140 -   Read from network: 3.07 Gbyte(s) in 3 sec  [925.14 Mbyte/sec] \n",
      "mars - INFO   - 20240419.160140 -   Processing in ATOS FDB: wall: 2 sec \n",
      "mars - INFO   - 20240419.160140 -   Visiting ATOS FDB: wall: 11 sec \n",
      "mars - INFO   - 20240419.160140 -   Writing to target file: 3.07 Gbyte(s) in 9 sec  [358.60 Mbyte/sec] cpu: 2 sec \n",
      "mars - INFO   - 20240419.160140 - Memory used: 65.56 Mbyte(s)\n",
      "mars - INFO   - 20240419.160140 - No errors reported\n"
     ]
    }
   ],
   "source": [
    "!mars big.req"
   ]
  },
  {
   "cell_type": "code",
   "execution_count": null,
   "id": "aeddca8b-ccfc-4dd2-960f-1ec701c70a50",
   "metadata": {},
   "outputs": [],
   "source": []
  }
 ],
 "metadata": {
  "kernelspec": {
   "display_name": "Python 3 (ipykernel)",
   "language": "python",
   "name": "python3"
  },
  "language_info": {
   "codemirror_mode": {
    "name": "ipython",
    "version": 3
   },
   "file_extension": ".py",
   "mimetype": "text/x-python",
   "name": "python",
   "nbconvert_exporter": "python",
   "pygments_lexer": "ipython3",
   "version": "3.12.2"
  }
 },
 "nbformat": 4,
 "nbformat_minor": 5
}
