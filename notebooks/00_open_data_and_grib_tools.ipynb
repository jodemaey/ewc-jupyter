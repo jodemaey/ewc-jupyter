{
 "cells": [
  {
   "cell_type": "markdown",
   "id": "5a5f8180",
   "metadata": {},
   "source": [
    "# Basic download and inspection of ECMWF Open Data"
   ]
  },
  {
   "cell_type": "markdown",
   "id": "bda972cd",
   "metadata": {},
   "source": [
    "In this example, we are going to use [ECMWF Open Data](https://www.ecmwf.int/en/forecasts/datasets/open-data), asubset of ECMWF real-time forecast data are made available to the public free of charge. Their use is governed by the Creative Commons CC-4.0-BY licence and the ECMWF Terms of Use. Products are produced at 0.25 degrees resolution in GRIB2 format, and released 1 hour after the real-time dissemination schedule. \n",
    "\n",
    "The <b><a href=\"https://github.com/ecmwf/ecmwf-opendata\">ecmwf-opendata</a></b> client will be used to download the example data.\n",
    "\n",
    "If not already present, you can install this in the current Jupyter kernel:\n",
    "\n",
    "<div class=\"alert alert-block alert-info\">\n",
    "    <b>Note</b>: If you do not have ecmwf-opendata installed in your current kernel, uncomment the line in the cell below and run.\n",
    "\n",
    "<b>If you need to install ecmwf-opendata you will need to restart the Jupyter kernel before you can use it:  Kernel -> Restart Kernel ...</b>\n",
    "    </div>"
   ]
  },
  {
   "cell_type": "code",
   "execution_count": 1,
   "id": "cc28d60a",
   "metadata": {},
   "outputs": [],
   "source": [
    "#!pip install ecmwf-opendata"
   ]
  },
  {
   "cell_type": "code",
   "execution_count": 2,
   "id": "d295549f",
   "metadata": {
    "tags": []
   },
   "outputs": [],
   "source": [
    "from ecmwf.opendata import Client"
   ]
  },
  {
   "cell_type": "code",
   "execution_count": 3,
   "id": "a2f2596f",
   "metadata": {},
   "outputs": [],
   "source": [
    "client = Client(\"ecmwf\")"
   ]
  },
  {
   "cell_type": "code",
   "execution_count": 4,
   "id": "0f9a301a",
   "metadata": {},
   "outputs": [],
   "source": [
    "parameters = [\"2t\", \"msl\", \"10u\", \"10v\"]\n",
    "steps = [24,120,240]\n",
    "filename = \"surface_fc.grib\""
   ]
  },
  {
   "cell_type": "markdown",
   "id": "17bd2f50",
   "metadata": {},
   "source": [
    "The retrieval will download the latest available HRES surface data."
   ]
  },
  {
   "cell_type": "code",
   "execution_count": 5,
   "id": "1ec5900c",
   "metadata": {},
   "outputs": [
    {
     "data": {
      "application/vnd.jupyter.widget-view+json": {
       "model_id": "",
       "version_major": 2,
       "version_minor": 0
      },
      "text/plain": [
       "<multiple>:   0%|          | 0.00/8.46M [00:00<?, ?B/s]"
      ]
     },
     "metadata": {},
     "output_type": "display_data"
    },
    {
     "data": {
      "text/plain": [
       "<ecmwf.opendata.client.Result at 0x7fd0e235b1a0>"
      ]
     },
     "execution_count": 5,
     "metadata": {},
     "output_type": "execute_result"
    }
   ],
   "source": [
    "client.retrieve(\n",
    "    stream = \"oper\",\n",
    "    type = \"fc\",\n",
    "    levtype = \"sfc\",\n",
    "    step = steps,\n",
    "    param = parameters,\n",
    "    target = filename\n",
    ")"
   ]
  },
  {
   "cell_type": "markdown",
   "id": "474c1e0d",
   "metadata": {},
   "source": [
    "Also retrieve the 2m temperature at step=0 and save to a file named 2t_an.grib."
   ]
  },
  {
   "cell_type": "code",
   "execution_count": 6,
   "id": "dbedbf5b",
   "metadata": {},
   "outputs": [],
   "source": [
    "parameters = [\"2t\"]\n",
    "steps = [0]\n",
    "filename = \"2t_an.grib\""
   ]
  },
  {
   "cell_type": "code",
   "execution_count": 7,
   "id": "68386c8f",
   "metadata": {},
   "outputs": [
    {
     "data": {
      "application/vnd.jupyter.widget-view+json": {
       "model_id": "",
       "version_major": 2,
       "version_minor": 0
      },
      "text/plain": [
       "20240419060000-0h-scda-fc.grib2:   0%|          | 0.00/644k [00:00<?, ?B/s]"
      ]
     },
     "metadata": {},
     "output_type": "display_data"
    },
    {
     "data": {
      "text/plain": [
       "<ecmwf.opendata.client.Result at 0x7fd0e00935c0>"
      ]
     },
     "execution_count": 7,
     "metadata": {},
     "output_type": "execute_result"
    }
   ],
   "source": [
    "client.retrieve(\n",
    "    stream = \"oper\",\n",
    "    type = \"fc\",\n",
    "    levtype = \"sfc\",\n",
    "    step = steps,\n",
    "    param = parameters,\n",
    "    target = filename\n",
    ")"
   ]
  },
  {
   "cell_type": "markdown",
   "id": "6d6ed6cd",
   "metadata": {},
   "source": [
    "Now the example data is downloaded, we can see it in the current directory"
   ]
  },
  {
   "cell_type": "code",
   "execution_count": 8,
   "id": "357d331c-9390-4810-ace6-17cadb8d5cc2",
   "metadata": {},
   "outputs": [
    {
     "name": "stdout",
     "output_type": "stream",
     "text": [
      "-rw-r--r-- 1 usxa usxa  659932 Apr 19 15:59 2t_an.grib\n",
      "-rw-r--r-- 1 usxa usxa 8866848 Apr 19 15:59 surface_fc.grib\n"
     ]
    }
   ],
   "source": [
    "ls -l 2t_an.grib surface_fc.grib"
   ]
  },
  {
   "cell_type": "markdown",
   "id": "e22efeba-d600-4aab-a258-bf4577668508",
   "metadata": {},
   "source": [
    "We can also use the command line GRIB tools, part of the <a href=\"https://confluence.ecmwf.int/display/ECC\">ECMWF ecCodes Library</a>, to quickly inspect the contents of the files retrieved:"
   ]
  },
  {
   "cell_type": "code",
   "execution_count": 9,
   "id": "0b07e2da-6729-4669-a122-fc9cfded87f5",
   "metadata": {},
   "outputs": [
    {
     "name": "stdout",
     "output_type": "stream",
     "text": [
      "2t_an.grib\n",
      "edition      centre       date         dataType     gridType     stepRange    typeOfLevel  level        shortName    packingType  \n",
      "2            ecmf         20240419     fc           regular_ll   0            heightAboveGround  2            2t           grid_ccsds  \n",
      "1 of 1 messages in 2t_an.grib\n",
      "\n",
      "surface_fc.grib\n",
      "2            ecmf         20240419     fc           regular_ll   24           meanSea      0            msl          grid_ccsds  \n",
      "2            ecmf         20240419     fc           regular_ll   24           heightAboveGround  10           10u          grid_ccsds  \n",
      "2            ecmf         20240419     fc           regular_ll   24           heightAboveGround  2            2t           grid_ccsds  \n",
      "2            ecmf         20240419     fc           regular_ll   24           heightAboveGround  10           10v          grid_ccsds  \n",
      "2            ecmf         20240419     fc           regular_ll   120          heightAboveGround  2            2t           grid_ccsds  \n",
      "2            ecmf         20240419     fc           regular_ll   120          meanSea      0            msl          grid_ccsds  \n",
      "2            ecmf         20240419     fc           regular_ll   120          heightAboveGround  10           10v          grid_ccsds  \n",
      "2            ecmf         20240419     fc           regular_ll   120          heightAboveGround  10           10u          grid_ccsds  \n",
      "2            ecmf         20240419     fc           regular_ll   240          heightAboveGround  10           10v          grid_ccsds  \n",
      "2            ecmf         20240419     fc           regular_ll   240          meanSea      0            msl          grid_ccsds  \n",
      "2            ecmf         20240419     fc           regular_ll   240          heightAboveGround  2            2t           grid_ccsds  \n",
      "2            ecmf         20240419     fc           regular_ll   240          heightAboveGround  10           10u          grid_ccsds  \n",
      "12 of 12 messages in surface_fc.grib\n",
      "\n",
      "13 of 13 total messages in 2 files\n"
     ]
    }
   ],
   "source": [
    "!grib_ls 2t_an.grib surface_fc.grib"
   ]
  },
  {
   "cell_type": "code",
   "execution_count": 10,
   "id": "0a650193-c79c-4393-b0a9-a554a2dc57c4",
   "metadata": {},
   "outputs": [
    {
     "name": "stdout",
     "output_type": "stream",
     "text": [
      "2t_an.grib\n",
      "max         min         avg         sd          skew        kurt        const       \n",
      "314.883     198.946     277.983     22.7094     -1.08125    0.618015    0          \n",
      "1 of 1 messages in 2t_an.grib\n",
      "\n",
      "surface_fc.grib\n",
      "104176      95495.8     101023      1455.89     -1.06847    1.26632     0          \n",
      "24.9523     -23.9852    -0.081192   5.54168     0.435188    0.421762    0          \n",
      "314.172     199.297     277.626     22.785      -1.14427    0.816157    0          \n",
      "19.7806     -21.8132    0.0124074   4.65596     -0.0585797  0.340712    0          \n",
      "314.726     194.476     278.114     22.408      -1.20728    1.05099     0          \n",
      "104353      94929.2     101098      1302.24     -1.08782    2.04495     0          \n",
      "25.5149     -19.4539    0.0929839   4.5883      -0.109766   0.390463    0          \n",
      "24.5086     -24.882     -0.316836   5.52455     0.401168    0.262284    0          \n",
      "21.3783     -20.481     0.205793    4.5649      -0.0144777  0.292747    0          \n",
      "104346      96484.5     101135      1131.77     -0.986021   1.35479     0          \n",
      "313.812     197.468     278.386     22.0612     -1.23364    1.17282     0          \n",
      "25.8038     -24.5087    -0.59142    5.5891      0.498636    0.479659    0          \n",
      "12 of 12 messages in surface_fc.grib\n",
      "\n",
      "13 of 13 total messages in 2 files\n"
     ]
    }
   ],
   "source": [
    "!grib_ls -n statistics 2t_an.grib surface_fc.grib"
   ]
  },
  {
   "cell_type": "markdown",
   "id": "da24eb5b-93da-4722-b773-85a370349dc9",
   "metadata": {},
   "source": [
    "There are many other command line tools you can use to get a deeper view of what is in those GRIB files, such as grib_count, grib_dump, or grib_get_data"
   ]
  },
  {
   "cell_type": "code",
   "execution_count": 11,
   "id": "2b917a13-0e0e-4db6-950a-14dcc0a6654f",
   "metadata": {},
   "outputs": [
    {
     "name": "stdout",
     "output_type": "stream",
     "text": [
      "13\n"
     ]
    }
   ],
   "source": [
    "!grib_count 2t_an.grib surface_fc.grib"
   ]
  },
  {
   "cell_type": "code",
   "execution_count": 12,
   "id": "a8a4de43-06de-4776-b01e-b3fd3aa0b12b",
   "metadata": {},
   "outputs": [
    {
     "name": "stdout",
     "output_type": "stream",
     "text": [
      "***** FILE: 2t_an.grib \n",
      "#==============   MESSAGE 1 ( length=659932 )              ==============\n",
      "GRIB {\n",
      "  # Meteorological products (grib2/tables/27/0.0.table)  \n",
      "  discipline = 0;\n",
      "  editionNumber = 2;\n",
      "  # European Centre for Medium-Range Weather Forecasts (common/c-11.table)  \n",
      "  centre = 98;\n",
      "  subCentre = 0;\n",
      "  # Start of forecast (grib2/tables/27/1.2.table)  \n",
      "  significanceOfReferenceTime = 1;\n",
      "  dataDate = 20240419;\n",
      "  dataTime = 600;\n",
      "  # Operational products (grib2/tables/27/1.3.table)  \n",
      "  productionStatusOfProcessedData = 0;\n",
      "  # Forecast products (grib2/tables/27/1.4.table)  \n",
      "  typeOfProcessedData = 1;\n",
      "  # MARS labelling (grib2/grib2LocalSectionNumber.98.table)  \n",
      "  grib2LocalSectionNumber = 1;\n",
      "  # Operational archive (mars/class.table)  \n",
      "  marsClass = 1;\n",
      "  # Forecast (mars/type.table)  \n",
      "  marsType = 9;\n",
      "  # Atmospheric model (short cutoff)  (mars/stream.table)  \n",
      "  marsStream = 1026;\n",
      "  experimentVersionNumber = 0001;\n",
      "  numberOfDataPoints = 1038240;\n",
      "  # There is no appended list (grib2/tables/27/3.11.table)  \n",
      "  interpretationOfNumberOfPoints = 0;\n",
      "  # Latitude/longitude (Also called equidistant cylindrical, or Plate Carree)  (grib2/tables/27/3.1.table)  \n",
      "  gridDefinitionTemplateNumber = 0;\n",
      "  # Earth assumed spherical with radius of 6 371 229.0 m (grib2/tables/27/3.2.table)  \n",
      "  shapeOfTheEarth = 6;\n",
      "  Ni = 1440;\n",
      "  Nj = 721;\n",
      "  iScansNegatively = 0;\n",
      "  jScansPositively = 0;\n",
      "  jPointsAreConsecutive = 0;\n",
      "  alternativeRowScanning = 0;\n",
      "  latitudeOfFirstGridPointInDegrees = 90;\n",
      "  longitudeOfFirstGridPointInDegrees = 180;\n",
      "  latitudeOfLastGridPointInDegrees = -90;\n",
      "  longitudeOfLastGridPointInDegrees = 179.75;\n",
      "  iDirectionIncrementInDegrees = 0.25;\n",
      "  jDirectionIncrementInDegrees = 0.25;\n",
      "  gridType = regular_ll;\n",
      "  NV = 0;\n",
      "  # Analysis or forecast at a horizontal level or in a horizontal layer at a point in time (grib2/tables/27/4.0.table)  \n",
      "  productDefinitionTemplateNumber = 0;\n",
      "  # Temperature (grib2/tables/27/4.1.0.table)  \n",
      "  parameterCategory = 0;\n",
      "  # Temperature (K)  (grib2/tables/27/4.2.0.0.table)  \n",
      "  parameterNumber = 0;\n",
      "  #-READ ONLY- parameterUnits = K;\n",
      "  #-READ ONLY- parameterName = Temperature;\n",
      "  # Forecast (grib2/tables/27/4.3.table)  \n",
      "  typeOfGeneratingProcess = 2;\n",
      "  generatingProcessIdentifier = 154;\n",
      "  # Hour (grib2/tables/27/4.4.table)  \n",
      "  indicatorOfUnitOfTimeRange = 1;\n",
      "  stepUnits = h;\n",
      "  forecastTime = 0;\n",
      "  stepRange = 0;\n",
      "  # Specified height level above ground (m)  (grib2/tables/27/4.5.table)  \n",
      "  typeOfFirstFixedSurface = 103;\n",
      "  #-READ ONLY- unitsOfFirstFixedSurface = m;\n",
      "  #-READ ONLY- nameOfFirstFixedSurface = Specified height level above ground;\n",
      "  scaleFactorOfFirstFixedSurface = 0;\n",
      "  scaledValueOfFirstFixedSurface = 2;\n",
      "  # Missing (grib2/tables/27/4.5.table)  \n",
      "  typeOfSecondFixedSurface = 255;\n",
      "  #-READ ONLY- unitsOfSecondFixedSurface = unknown;\n",
      "  #-READ ONLY- nameOfSecondFixedSurface = Missing;\n",
      "  scaleFactorOfSecondFixedSurface = MISSING;\n",
      "  scaledValueOfSecondFixedSurface = MISSING;\n",
      "  level = 2;\n",
      "  shortName = 2t;\n",
      "  name = 2 metre temperature;\n",
      "  cfName = air_temperature;\n",
      "  cfVarName = t2m;\n",
      "  #-READ ONLY- modelName = unknown;\n",
      "  numberOfValues = 1038240;\n",
      "  packingType = grid_ccsds;\n",
      "  ccsdsFlags = 14;\n",
      "  ccsdsBlockSize = 32;\n",
      "  ccsdsRsi = 128;\n",
      "  # A bit map does not apply to this product (grib2/tables/27/6.0.table)  \n",
      "  bitMapIndicator = 255;\n",
      "  bitmapPresent = 0;\n",
      "  values(1038240) =  {\n",
      "  253.821, 253.821, 253.821, 253.821, 253.821, \n",
      "  253.821, 253.821, 253.821, 253.821, 253.821, \n",
      "  253.821, 253.821, 253.821, 253.821, 253.821, \n",
      "  253.821, 253.821, 253.821, 253.821, 253.821, \n",
      "  253.821, 253.821, 253.821, 253.821, 253.821, \n",
      "  253.821, 253.821, 253.821, 253.821, 253.821, \n",
      "  253.821, 253.821, 253.821, 253.821, 253.821, \n",
      "  253.821, 253.821, 253.821, 253.821, 253.821, \n",
      "  253.821, 253.821, 253.821, 253.821, 253.821, \n",
      "  253.821, 253.821, 253.821, 253.821, 253.821, \n",
      "  253.821, 253.821, 253.821, 253.821, 253.821, \n",
      "  253.821, 253.821, 253.821, 253.821, 253.821, \n",
      "  253.821, 253.821, 253.821, 253.821, 253.821, \n",
      "  253.821, 253.821, 253.821, 253.821, 253.821, \n",
      "  253.821, 253.821, 253.821, 253.821, 253.821, \n",
      "  253.821, 253.821, 253.821, 253.821, 253.821, \n",
      "  253.821, 253.821, 253.821, 253.821, 253.821, \n",
      "  253.821, 253.821, 253.821, 253.821, 253.821, \n",
      "  253.821, 253.821, 253.821, 253.821, 253.821, \n",
      "  253.821, 253.821, 253.821, 253.821, 253.821\n",
      "  ... 1038140 more values\n",
      "  } \n",
      "  #-READ ONLY- maximum = 314.883;\n",
      "  #-READ ONLY- minimum = 198.946;\n",
      "  #-READ ONLY- average = 277.983;\n",
      "  #-READ ONLY- standardDeviation = 22.7094;\n",
      "  #-READ ONLY- skewness = -1.08125;\n",
      "  #-READ ONLY- kurtosis = 0.618015;\n",
      "  #-READ ONLY- isConstant = 0;\n",
      "  #-READ ONLY- numberOfMissing = 0;\n",
      "  #-READ ONLY- getNumberOfValues = 1038240;\n",
      "}\n"
     ]
    }
   ],
   "source": [
    "!grib_dump  2t_an.grib"
   ]
  },
  {
   "cell_type": "code",
   "execution_count": 13,
   "id": "18b46784-00ac-46a5-b900-b2a6c37c152e",
   "metadata": {},
   "outputs": [
    {
     "name": "stdout",
     "output_type": "stream",
     "text": [
      "Latitude Longitude Value\n",
      "   90.000 -180.000 2.5382067871e+02\n",
      "   90.000 -179.750 2.5382067871e+02\n",
      "   90.000 -179.500 2.5382067871e+02\n",
      "   90.000 -179.250 2.5382067871e+02\n",
      "   90.000 -179.000 2.5382067871e+02\n",
      "   90.000 -178.750 2.5382067871e+02\n",
      "   90.000 -178.500 2.5382067871e+02\n",
      "   90.000 -178.250 2.5382067871e+02\n",
      "   90.000 -178.000 2.5382067871e+02\n"
     ]
    }
   ],
   "source": [
    "!grib_get_data 2t_an.grib | head"
   ]
  },
  {
   "cell_type": "code",
   "execution_count": null,
   "id": "f664e851-d12a-48f2-a958-d7f5498ff41a",
   "metadata": {},
   "outputs": [],
   "source": []
  }
 ],
 "metadata": {
  "kernelspec": {
   "display_name": "Python 3 (ipykernel)",
   "language": "python",
   "name": "python3"
  },
  "language_info": {
   "codemirror_mode": {
    "name": "ipython",
    "version": 3
   },
   "file_extension": ".py",
   "mimetype": "text/x-python",
   "name": "python",
   "nbconvert_exporter": "python",
   "pygments_lexer": "ipython3",
   "version": "3.12.2"
  }
 },
 "nbformat": 4,
 "nbformat_minor": 5
}
